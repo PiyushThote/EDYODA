{
 "cells": [
  {
   "cell_type": "code",
   "execution_count": 7,
   "id": "6dc63ae4",
   "metadata": {},
   "outputs": [
    {
     "name": "stdout",
     "output_type": "stream",
     "text": [
      "Enter any word to reverse = Piyush\n",
      "Reverse word =  hsuyiP\n",
      "*******************************************End of Program*******************************************\n"
     ]
    }
   ],
   "source": [
    "word = input(\"Enter any word to reverse = \")\n",
    "reverse = ''\n",
    "for i in word:\n",
    "    reverse = i + reverse\n",
    "print(\"Reverse word = \",reverse)\n",
    "print(\"End of Program\".center(100,'*'))"
   ]
  },
  {
   "cell_type": "code",
   "execution_count": null,
   "id": "19f34060",
   "metadata": {},
   "outputs": [],
   "source": []
  }
 ],
 "metadata": {
  "kernelspec": {
   "display_name": "Python 3 (ipykernel)",
   "language": "python",
   "name": "python3"
  },
  "language_info": {
   "codemirror_mode": {
    "name": "ipython",
    "version": 3
   },
   "file_extension": ".py",
   "mimetype": "text/x-python",
   "name": "python",
   "nbconvert_exporter": "python",
   "pygments_lexer": "ipython3",
   "version": "3.9.7"
  }
 },
 "nbformat": 4,
 "nbformat_minor": 5
}
