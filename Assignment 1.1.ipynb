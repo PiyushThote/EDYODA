{
 "cells": [
  {
   "cell_type": "code",
   "execution_count": 1,
   "id": "f6d176a7",
   "metadata": {},
   "outputs": [],
   "source": [
    "#1. What is Python?\n",
    "#2. Give some applications of Python.\n",
    "#3. What are the built-in data types in Python?\n",
    "#4. What’s the difference between list and tuple?\n",
    "#5. What are mutable and immutable data types?\n",
    "#6. Explain some methods of the list.\n",
    "#7. Explain some methods of string\n",
    "#8. What’s the negative indexing in lists?\n",
    "#9. Explain some methods of dict.\n",
    "#10. What is slicing in Python?\n",
    "#11. Which data types allow slicing?\n",
    "#12. Does Python have switch statements?\n",
    "#13. What are break and continue statements?\n",
    "#14. When is the code in else executed with while and for loops?\n",
    "#15. What are list and dictionary comprehensions?\n",
    "#16. How does the range function work?\n",
    "#17. What are the parameters and arguments?\n",
    "#18. What are the different types of arguments in Python?\n",
    "#19. What is the lambda function?\n",
    "#20. What’s the difference between normal function and lambda function?"
   ]
  },
  {
   "cell_type": "code",
   "execution_count": null,
   "id": "6cbddb06",
   "metadata": {},
   "outputs": [],
   "source": []
  }
 ],
 "metadata": {
  "kernelspec": {
   "display_name": "Python 3 (ipykernel)",
   "language": "python",
   "name": "python3"
  },
  "language_info": {
   "codemirror_mode": {
    "name": "ipython",
    "version": 3
   },
   "file_extension": ".py",
   "mimetype": "text/x-python",
   "name": "python",
   "nbconvert_exporter": "python",
   "pygments_lexer": "ipython3",
   "version": "3.9.7"
  }
 },
 "nbformat": 4,
 "nbformat_minor": 5
}
