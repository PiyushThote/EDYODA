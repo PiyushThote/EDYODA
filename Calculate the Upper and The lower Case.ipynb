{
 "cells": [
  {
   "cell_type": "code",
   "execution_count": 1,
   "id": "b7c57fcb",
   "metadata": {},
   "outputs": [
    {
     "name": "stdout",
     "output_type": "stream",
     "text": [
      "Enter any string = The quick Brown Fox\n",
      "Number of Upper case characters =  3\n",
      "Number of Lower case Characters =  13\n",
      "Number of special Characters =  3\n",
      "Number of digits =  0\n"
     ]
    }
   ],
   "source": [
    "def string(s):\n",
    "    upper_case = 0\n",
    "    lower_case = 0\n",
    "    special_char = 0\n",
    "    digits = 0\n",
    "    \n",
    "    for c in s:\n",
    "        if c.isdigit():\n",
    "            digits += 1\n",
    "        elif c.isupper():\n",
    "            upper_case += 1\n",
    "        elif c.islower():\n",
    "            lower_case += 1\n",
    "        else:\n",
    "            special_char += 1\n",
    "    \n",
    "    print (\"Number of Upper case characters = \", upper_case)\n",
    "    print (\"Number of Lower case Characters = \", lower_case)\n",
    "    print (\"Number of special Characters = \", special_char)\n",
    "    print (\"Number of digits = \", digits)\n",
    "\n",
    "s = input('Enter any string = ')\n",
    "string(s)"
   ]
  },
  {
   "cell_type": "code",
   "execution_count": null,
   "id": "979db226",
   "metadata": {},
   "outputs": [],
   "source": []
  }
 ],
 "metadata": {
  "kernelspec": {
   "display_name": "Python 3 (ipykernel)",
   "language": "python",
   "name": "python3"
  },
  "language_info": {
   "codemirror_mode": {
    "name": "ipython",
    "version": 3
   },
   "file_extension": ".py",
   "mimetype": "text/x-python",
   "name": "python",
   "nbconvert_exporter": "python",
   "pygments_lexer": "ipython3",
   "version": "3.9.7"
  }
 },
 "nbformat": 4,
 "nbformat_minor": 5
}
