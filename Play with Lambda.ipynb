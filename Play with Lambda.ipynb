{
 "cells": [
  {
   "cell_type": "code",
   "execution_count": 1,
   "id": "1f67d58c",
   "metadata": {},
   "outputs": [
    {
     "name": "stdout",
     "output_type": "stream",
     "text": [
      "Enter any number to add with 25 = 10\n",
      "After addition = 35\n"
     ]
    }
   ],
   "source": [
    "any_num = int(input(\"Enter any number to add with 25 = \"))\n",
    "added_num = lambda any_num: any_num + 25\n",
    "print(\"After addition = {}\".format(added_num(any_num)))"
   ]
  },
  {
   "cell_type": "code",
   "execution_count": null,
   "id": "b92e37bc",
   "metadata": {},
   "outputs": [],
   "source": []
  }
 ],
 "metadata": {
  "kernelspec": {
   "display_name": "Python 3 (ipykernel)",
   "language": "python",
   "name": "python3"
  },
  "language_info": {
   "codemirror_mode": {
    "name": "ipython",
    "version": 3
   },
   "file_extension": ".py",
   "mimetype": "text/x-python",
   "name": "python",
   "nbconvert_exporter": "python",
   "pygments_lexer": "ipython3",
   "version": "3.9.7"
  }
 },
 "nbformat": 4,
 "nbformat_minor": 5
}
