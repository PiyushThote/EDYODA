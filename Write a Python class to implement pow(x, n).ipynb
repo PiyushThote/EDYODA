{
 "cells": [
  {
   "cell_type": "code",
   "execution_count": 38,
   "id": "3cbbbdff",
   "metadata": {},
   "outputs": [
    {
     "name": "stdout",
     "output_type": "stream",
     "text": [
      "Enter base number: 10\n",
      "Enter exponent: 2\n",
      "the 2 power of 10 = 100\n"
     ]
    }
   ],
   "source": [
    "class Find_Power:\n",
    "    def Power(x, n):\n",
    "        base = x\n",
    "        expo = n\n",
    "        \n",
    "        if x==0 or x==1 or n==1:\n",
    "            return x\n",
    "        elif x==-1:\n",
    "            if n%2 ==0:\n",
    "                return 1\n",
    "            else:\n",
    "                return -1\n",
    "        elif n==0:\n",
    "            return 1\n",
    "        elif n < 0:\n",
    "            expo = -n\n",
    "        for x in range(1, expo):\n",
    "            base *= base\n",
    "        if n<0:\n",
    "            return 1/base\n",
    "        else:\n",
    "            return base\n",
    "\n",
    "x = int(input(\"Enter base number: \"))\n",
    "n = int(input(\"Enter exponent: \"))\n",
    "ans = Find_Power.Power(x, n)\n",
    "print(\"the {} power of {} = {}\".format(n,x,ans))"
   ]
  },
  {
   "cell_type": "code",
   "execution_count": null,
   "id": "333f3dff",
   "metadata": {},
   "outputs": [],
   "source": []
  }
 ],
 "metadata": {
  "kernelspec": {
   "display_name": "Python 3 (ipykernel)",
   "language": "python",
   "name": "python3"
  },
  "language_info": {
   "codemirror_mode": {
    "name": "ipython",
    "version": 3
   },
   "file_extension": ".py",
   "mimetype": "text/x-python",
   "name": "python",
   "nbconvert_exporter": "python",
   "pygments_lexer": "ipython3",
   "version": "3.9.7"
  }
 },
 "nbformat": 4,
 "nbformat_minor": 5
}
