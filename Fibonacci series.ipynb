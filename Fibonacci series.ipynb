{
 "cells": [
  {
   "cell_type": "code",
   "execution_count": 16,
   "id": "8c6a93e7",
   "metadata": {},
   "outputs": [
    {
     "name": "stdout",
     "output_type": "stream",
     "text": [
      "Enter Fibonacci series upto 50\n",
      "The Fibonacci series between 0 to 50\n",
      "0\t1\t1\t2\t3\t5\t8\t13\t21\t34\t\n",
      "*******************************************End of program*******************************************\n"
     ]
    }
   ],
   "source": [
    "i = int(input(\"Enter Fibonacci series upto \"))\n",
    "first_number = 0\n",
    "second_number = 1\n",
    "sum = 1\n",
    "print(\"The Fibonacci series between 0 to {}\".format(i))\n",
    "print(first_number,end='\\t')\n",
    "while sum < i:\n",
    "    print(sum, end='\\t')\n",
    "    sum = first_number + second_number\n",
    "    first_number = second_number\n",
    "    second_number = sum\n",
    "else:\n",
    "    print(end='\\n')\n",
    "print(\"End of program\".center(100,'*'))"
   ]
  },
  {
   "cell_type": "code",
   "execution_count": null,
   "id": "61ed1411",
   "metadata": {},
   "outputs": [],
   "source": []
  }
 ],
 "metadata": {
  "kernelspec": {
   "display_name": "Python 3 (ipykernel)",
   "language": "python",
   "name": "python3"
  },
  "language_info": {
   "codemirror_mode": {
    "name": "ipython",
    "version": 3
   },
   "file_extension": ".py",
   "mimetype": "text/x-python",
   "name": "python",
   "nbconvert_exporter": "python",
   "pygments_lexer": "ipython3",
   "version": "3.9.7"
  }
 },
 "nbformat": 4,
 "nbformat_minor": 5
}
