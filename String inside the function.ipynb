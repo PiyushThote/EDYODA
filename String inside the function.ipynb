{
 "cells": [
  {
   "cell_type": "code",
   "execution_count": 1,
   "id": "236be183",
   "metadata": {},
   "outputs": [
    {
     "name": "stdout",
     "output_type": "stream",
     "text": [
      "Enter string to reverse = 1234abcd\n",
      "Reverse string =  dcba4321\n"
     ]
    }
   ],
   "source": [
    "def reverse_string(str):\n",
    "    reverse = ''\n",
    "    index = len(str)\n",
    "    while index > 0:\n",
    "        reverse += str[ index - 1 ]\n",
    "        index = index - 1\n",
    "    return reverse\n",
    "\n",
    "str = input(\"Enter string to reverse = \")\n",
    "print(\"Reverse string = \",reverse_string(str))"
   ]
  },
  {
   "cell_type": "code",
   "execution_count": 2,
   "id": "61d8e65d",
   "metadata": {},
   "outputs": [
    {
     "name": "stdout",
     "output_type": "stream",
     "text": [
      "Enter string to reverse = 1234abcd\n",
      "Reverse string =  dcba4321\n"
     ]
    }
   ],
   "source": [
    "def string_reverse(str):\n",
    "    reverse = ''\n",
    "    for i in word:\n",
    "        reverse = i + reverse\n",
    "    print(\"Reverse thing = \",reverse)\n",
    "   \n",
    "str = input(\"Enter string to reverse = \")\n",
    "print(\"Reverse string = \",reverse_string(str))\n",
    "\n"
   ]
  },
  {
   "cell_type": "code",
   "execution_count": null,
   "id": "5f097b6a",
   "metadata": {},
   "outputs": [],
   "source": []
  }
 ],
 "metadata": {
  "kernelspec": {
   "display_name": "Python 3 (ipykernel)",
   "language": "python",
   "name": "python3"
  },
  "language_info": {
   "codemirror_mode": {
    "name": "ipython",
    "version": 3
   },
   "file_extension": ".py",
   "mimetype": "text/x-python",
   "name": "python",
   "nbconvert_exporter": "python",
   "pygments_lexer": "ipython3",
   "version": "3.9.7"
  }
 },
 "nbformat": 4,
 "nbformat_minor": 5
}
