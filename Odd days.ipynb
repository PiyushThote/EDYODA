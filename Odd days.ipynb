{
 "cells": [
  {
   "cell_type": "code",
   "execution_count": 22,
   "id": "0e50d1ae",
   "metadata": {},
   "outputs": [
    {
     "name": "stdout",
     "output_type": "stream",
     "text": [
      "Number of even numbers =  4\n",
      "Number of odd numbers =  5\n",
      "*******************************************End of program*******************************************\n"
     ]
    }
   ],
   "source": [
    "a = (1,2,3,4,5,6,7,8,9)\n",
    "odd_days = 0\n",
    "even_days = 0\n",
    "for i in a:\n",
    "    if i % 2 == 0:\n",
    "        even_days += 1\n",
    "    else:\n",
    "        odd_days += 1\n",
    "print(\"Number of even numbers = \", even_days)\n",
    "print(\"Number of odd numbers = \", odd_days)\n",
    "print(\"End of program\".center(100,'*'))"
   ]
  },
  {
   "cell_type": "code",
   "execution_count": null,
   "id": "0834ff2e",
   "metadata": {},
   "outputs": [],
   "source": []
  }
 ],
 "metadata": {
  "kernelspec": {
   "display_name": "Python 3 (ipykernel)",
   "language": "python",
   "name": "python3"
  },
  "language_info": {
   "codemirror_mode": {
    "name": "ipython",
    "version": 3
   },
   "file_extension": ".py",
   "mimetype": "text/x-python",
   "name": "python",
   "nbconvert_exporter": "python",
   "pygments_lexer": "ipython3",
   "version": "3.9.7"
  }
 },
 "nbformat": 4,
 "nbformat_minor": 5
}
